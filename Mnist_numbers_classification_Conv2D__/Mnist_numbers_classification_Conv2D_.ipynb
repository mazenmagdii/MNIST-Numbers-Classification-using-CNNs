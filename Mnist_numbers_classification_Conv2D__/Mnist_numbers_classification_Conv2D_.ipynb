{
  "cells": [
    {
      "cell_type": "code",
      "execution_count": 35,
      "metadata": {
        "id": "S1-AjIzDqZvq"
      },
      "outputs": [],
      "source": [
        "from tensorflow.keras.datasets import mnist\n",
        "import numpy as np\n",
        "import matplotlib.pyplot as plt\n",
        "import tensorflow as tf"
      ]
    },
    {
      "cell_type": "code",
      "execution_count": 36,
      "metadata": {
        "id": "9hbtWL8RqgYy"
      },
      "outputs": [],
      "source": [
        "seed = 3141\n",
        "np.random.seed(seed)"
      ]
    },
    {
      "cell_type": "code",
      "execution_count": 37,
      "metadata": {
        "id": "a-G_eNJUrNX-"
      },
      "outputs": [],
      "source": [
        "(x_train, y_train), (x_test, y_test) = mnist.load_data()"
      ]
    },
    {
      "cell_type": "code",
      "execution_count": 38,
      "metadata": {
        "id": "ZWCnCvdiqpwF"
      },
      "outputs": [],
      "source": [
        "X=np.concatenate((x_train,x_test))\n",
        "Y=np.concatenate((y_train,y_test))"
      ]
    },
    {
      "cell_type": "code",
      "execution_count": 39,
      "metadata": {},
      "outputs": [],
      "source": [
        "from sklearn.model_selection import train_test_split\n",
        "x_train,x_temp,y_train,y_temp=train_test_split(X,Y,test_size=0.3,random_state=42,shuffle=False)\n",
        "x_val,x_test,y_val,y_test=train_test_split(x_temp,y_temp,shuffle=False,test_size=0.5)\n"
      ]
    },
    {
      "cell_type": "code",
      "execution_count": 40,
      "metadata": {
        "colab": {
          "base_uri": "https://localhost:8080/",
          "height": 465
        },
        "id": "jZrrq4sQrSlt",
        "outputId": "2f4378c1-83c1-43ad-92ab-4bb600d955f9"
      },
      "outputs": [
        {
          "name": "stdout",
          "output_type": "stream",
          "text": [
            "Training data: \n",
            "Label of the image is 3\n"
          ]
        },
        {
          "data": {
            "image/png": "[encoded data removed]",
            "text/plain": [
              "<Figure size 640x480 with 1 Axes>"
            ]
          },
          "metadata": {},
          "output_type": "display_data"
        }
      ],
      "source": [
        "print('Training data: ')\n",
        "plt.imshow(x_train[10])\n",
        "plt.show\n",
        "print('Label of the image is',y_train[10])"
      ]
    },
    {
      "cell_type": "code",
      "execution_count": 41,
      "metadata": {
        "colab": {
          "base_uri": "https://localhost:8080/"
        },
        "id": "LSbidA7jsCk7",
        "outputId": "2b6503cc-bdaa-4bc4-e096-347acab3e0d3"
      },
      "outputs": [],
      "source": [
        "x_train=np.reshape(x_train,(-1,28,28,1))\n",
        "x_test=np.reshape(x_test,(-1,28,28,1))\n",
        "x_val=np.reshape(x_val,(-1,28,28,1))\n"
      ]
    },
    {
      "cell_type": "code",
      "execution_count": 42,
      "metadata": {
        "id": "JG2nZSSOtetb"
      },
      "outputs": [],
      "source": [
        "x_train=x_train/255.0\n",
        "x_test=x_test/255.0\n",
        "x_val=x_val/255.0"
      ]
    },
    {
      "cell_type": "code",
      "execution_count": 43,
      "metadata": {
        "id": "FqS8B-A-txCo"
      },
      "outputs": [],
      "source": [
        "from tensorflow.keras.utils import to_categorical\n",
        "y_train=to_categorical(y_train,10)\n",
        "y_test=to_categorical(y_test,10)\n",
        "y_val=to_categorical(y_val,10)"
      ]
    },
    {
      "cell_type": "code",
      "execution_count": 44,
      "metadata": {
        "id": "fHnTxQUduIBa"
      },
      "outputs": [],
      "source": [
        "from tensorflow.keras.models import Sequential\n",
        "from tensorflow.keras.layers import Conv2D,MaxPooling2D,Flatten,Dense,Dropout,BatchNormalization\n",
        "from tensorflow.keras.callbacks import EarlyStopping,ModelCheckpoint"
      ]
    },
    {
      "cell_type": "code",
      "execution_count": 54,
      "metadata": {
        "id": "6wX7YMe-8z7_"
      },
      "outputs": [],
      "source": [
        "early_stopping = EarlyStopping(monitor='val_loss',min_delta=0.01, patience=3, restore_best_weights=True)\n",
        "Model_checkpoint=ModelCheckpoint(filepath='./Mnist_numbers_classification_Conv2D_model.h5',\n",
        "                                 monitor='val_loss',\n",
        "                                 verbose=1,\n",
        "                                 mode='min',\n",
        "                                 save_best_only=True,\n",
        "                                 save_weights_only=False)"
      ]
    },
    {
      "cell_type": "code",
      "execution_count": 55,
      "metadata": {
        "id": "7nttGgfW9dz3"
      },
      "outputs": [],
      "source": [
        "model=Sequential([\n",
        "    Conv2D(32,kernel_size=5,activation='relu',input_shape=(28,28,1),padding='same',strides=1),\n",
        "    BatchNormalization(),\n",
        "    MaxPooling2D(padding='same'),\n",
        "    Conv2D(64,kernel_size=5,activation='relu',padding='same',strides=1),\n",
        "    BatchNormalization(),\n",
        "    MaxPooling2D(padding='same'),\n",
        "    Conv2D(128,kernel_size=5,activation='relu',padding='same',strides=1),\n",
        "    BatchNormalization(),\n",
        "    MaxPooling2D(padding='same'),\n",
        "    Flatten(),\n",
        "    Dense(512,activation='relu'),\n",
        "    BatchNormalization(),\n",
        "    Dropout(0.2),\n",
        "    Dense(256,activation='relu'),\n",
        "    BatchNormalization(),\n",
        "    Dropout(0.2),\n",
        "    Dense(10,activation='softmax')\n",
        "])"
      ]
    },
    {
      "cell_type": "code",
      "execution_count": 56,
      "metadata": {
        "id": "07urpArn9j9Z"
      },
      "outputs": [],
      "source": [
        "model.compile(optimizer='adam',loss='categorical_crossentropy',metrics=['accuracy'])"
      ]
    },
    {
      "cell_type": "code",
      "execution_count": 57,
      "metadata": {
        "colab": {
          "base_uri": "https://localhost:8080/"
        },
        "id": "8_JjZuHlv5G8",
        "outputId": "bae2474f-0703-44e3-9b15-953bbb2fadb6"
      },
      "outputs": [
        {
          "name": "stdout",
          "output_type": "stream",
          "text": [
            "Epoch 1/20\n",
            "383/383 [==============================] - ETA: 0s - loss: 0.1148 - accuracy: 0.9644\n",
            "Epoch 1: val_loss improved from inf to 3.86071, saving model to .\\Mnist_numbers_classification_Conv2D_model.h5\n",
            "383/383 [==============================] - 193s 498ms/step - loss: 0.1148 - accuracy: 0.9644 - val_loss: 3.8607 - val_accuracy: 0.2387\n",
            "Epoch 2/20\n"
          ]
        },
        {
          "name": "stderr",
          "output_type": "stream",
          "text": [
            "c:\\Users\\ELZAHBIA\\anaconda3\\Lib\\site-packages\\keras\\src\\engine\\training.py:3000: UserWarning: You are saving your model as an HDF5 file via `model.save()`. This file format is considered legacy. We recommend using instead the native Keras format, e.g. `model.save('my_model.keras')`.\n",
            "  saving_api.save_model(\n"
          ]
        },
        {
          "name": "stdout",
          "output_type": "stream",
          "text": [
            "383/383 [==============================] - ETA: 0s - loss: 0.0414 - accuracy: 0.9873\n",
            "Epoch 2: val_loss improved from 3.86071 to 0.05300, saving model to .\\Mnist_numbers_classification_Conv2D_model.h5\n",
            "383/383 [==============================] - 182s 475ms/step - loss: 0.0414 - accuracy: 0.9873 - val_loss: 0.0530 - val_accuracy: 0.9846\n",
            "Epoch 3/20\n",
            "383/383 [==============================] - ETA: 0s - loss: 0.0279 - accuracy: 0.9913\n",
            "Epoch 3: val_loss improved from 0.05300 to 0.03591, saving model to .\\Mnist_numbers_classification_Conv2D_model.h5\n",
            "383/383 [==============================] - 175s 458ms/step - loss: 0.0279 - accuracy: 0.9913 - val_loss: 0.0359 - val_accuracy: 0.9897\n",
            "Epoch 4/20\n",
            "383/383 [==============================] - ETA: 0s - loss: 0.0228 - accuracy: 0.9925\n",
            "Epoch 4: val_loss did not improve from 0.03591\n",
            "383/383 [==============================] - 184s 480ms/step - loss: 0.0228 - accuracy: 0.9925 - val_loss: 0.0393 - val_accuracy: 0.9894\n",
            "Epoch 5/20\n",
            "383/383 [==============================] - ETA: 0s - loss: 0.0176 - accuracy: 0.9947\n",
            "Epoch 5: val_loss did not improve from 0.03591\n",
            "383/383 [==============================] - 185s 482ms/step - loss: 0.0176 - accuracy: 0.9947 - val_loss: 0.0404 - val_accuracy: 0.9875\n",
            "Epoch 6/20\n",
            "383/383 [==============================] - ETA: 0s - loss: 0.0141 - accuracy: 0.9953\n",
            "Epoch 6: val_loss did not improve from 0.03591\n",
            "383/383 [==============================] - 177s 463ms/step - loss: 0.0141 - accuracy: 0.9953 - val_loss: 0.0474 - val_accuracy: 0.9878\n"
          ]
        },
        {
          "data": {
            "text/plain": [
              "<keras.src.callbacks.History at 0x25a33d99f50>"
            ]
          },
          "execution_count": 57,
          "metadata": {},
          "output_type": "execute_result"
        }
      ],
      "source": [
        "model.fit(x_train,y_train, batch_size=128,validation_data=(x_val, y_val), epochs=20,callbacks=[early_stopping,Model_checkpoint])"
      ]
    },
    {
      "cell_type": "code",
      "execution_count": 58,
      "metadata": {
        "colab": {
          "base_uri": "https://localhost:8080/"
        },
        "id": "Pq1F5y10v8-i",
        "outputId": "272b4897-7065-4f4d-d4c6-692846c36555"
      },
      "outputs": [
        {
          "name": "stdout",
          "output_type": "stream",
          "text": [
            "329/329 [==============================] - 10s 29ms/step - loss: 0.0365 - accuracy: 0.9892\n"
          ]
        },
        {
          "data": {
            "text/plain": [
              "[0.03650705888867378, 0.9892380833625793]"
            ]
          },
          "execution_count": 58,
          "metadata": {},
          "output_type": "execute_result"
        }
      ],
      "source": [
        "model.evaluate(x_test,y_test)\n"
      ]
    },
    {
      "cell_type": "code",
      "execution_count": 60,
      "metadata": {
        "colab": {
          "base_uri": "https://localhost:8080/"
        },
        "id": "Mghu-ah41HgT",
        "outputId": "82a57290-f1f8-4018-853b-9c3ea07ce6ee"
      },
      "outputs": [],
      "source": [
        "model.save('my_model.keras')"
      ]
    },
    {
      "cell_type": "code",
      "execution_count": 61,
      "metadata": {
        "colab": {
          "base_uri": "https://localhost:8080/"
        },
        "id": "6IKT6_cAtfuW",
        "outputId": "01ad0712-6df0-430b-8993-d35176c2ffa4"
      },
      "outputs": [
        {
          "name": "stdout",
          "output_type": "stream",
          "text": [
            "329/329 [==============================] - 9s 28ms/step\n"
          ]
        }
      ],
      "source": [
        "y_pred = model.predict(x_test)\n",
        "y_pred_classes = np.argmax(y_pred,axis = 1)\n",
        "y_true = np.argmax(y_test,axis = 1)"
      ]
    },
    {
      "cell_type": "code",
      "execution_count": 63,
      "metadata": {
        "colab": {
          "base_uri": "https://localhost:8080/",
          "height": 452
        },
        "id": "BFfYmUZxuG43",
        "outputId": "a3bc61a3-682c-4b8a-8e77-81ff755d0dcf"
      },
      "outputs": [
        {
          "data": {
            "image/png": "[encoded data removed]",
            "text/plain": [
              "<Figure size 640x480 with 1 Axes>"
            ]
          },
          "metadata": {},
          "output_type": "display_data"
        }
      ],
      "source": [
        "plt.imshow(x_test[2001].reshape(28, 28), cmap='gray')\n",
        "plt.title(\"Digit: {}\".format(y_pred_classes[2001]))\n",
        "plt.show()\n"
      ]
    },
    {
      "cell_type": "code",
      "execution_count": null,
      "metadata": {},
      "outputs": [],
      "source": []
    }
  ],
  "metadata": {
    "accelerator": "TPU",
    "colab": {
      "gpuType": "V28",
      "provenance": []
    },
    "kernelspec": {
      "display_name": "Python 3",
      "name": "python3"
    },
    "language_info": {
      "codemirror_mode": {
        "name": "ipython",
        "version": 3
      },
      "file_extension": ".py",
      "mimetype": "text/x-python",
      "name": "python",
      "nbconvert_exporter": "python",
      "pygments_lexer": "ipython3",
      "version": "3.12.4"
    }
  },
  "nbformat": 4,
  "nbformat_minor": 0
}
